{
 "cells": [
  {
   "cell_type": "markdown",
   "metadata": {},
   "source": [
    "# Human Activity Recognition\n",
    "#### By Nathan Lecompte (45423725)"
   ]
  },
  {
   "cell_type": "markdown",
   "metadata": {},
   "source": [
    "The following code is for a human activity recognition IoT application, it utilises the 'DaLiAc' dataset which consists of data from 19 subjects (8 female and 11 male, age 26 ± 8 years, height 177 ± 11 cm, weight 75.2 ± 14.2 kg, mean ± standard deviation (SD)) that performed 13 daily life activities, including: sitting, lying, standing, washing dishes, vacuuming, sweeping, walking outside, ascending & descending stairs, treadmill running (8.3 km/h), bicycling (both at 50 watt & 100 watt), and rope jumping.\n",
    "\n"
   ]
  },
  {
   "cell_type": "markdown",
   "metadata": {},
   "source": [
    "## Import packages"
   ]
  },
  {
   "cell_type": "markdown",
   "metadata": {},
   "source": [
    "Before running any code, please ensure all the necessary Python packages are installed via pip, including:\n",
    " - **numpy**: `pip install numpy`\n",
    " - **pandas**: `pip install pandas`\n",
    " - **scipy**: `pip install scipy`\n",
    " - **matplotlib**: `pip install matplotlib`\n",
    " - **scikit-learn**: `pip install sklearn`\n",
    "\n",
    "Once the above packages have been installed, import the packages by running the code block below:"
   ]
  },
  {
   "cell_type": "code",
   "execution_count": null,
   "metadata": {},
   "outputs": [],
   "source": [
    "# Import packages\n",
    "import numpy as np \n",
    "import pandas as pd \n",
    "from scipy import signal\n",
    "import matplotlib.pyplot as plt \n",
    "import math\n",
    "from sklearn import preprocessing\n",
    "from sklearn.neighbors import KNeighborsClassifier\n",
    "from sklearn.metrics import make_scorer, accuracy_score, confusion_matrix\n",
    "from sklearn.svm import SVC\n",
    "from sklearn.model_selection import GridSearchCV"
   ]
  },
  {
   "cell_type": "markdown",
   "metadata": {},
   "source": [
    "## 1.0 Load data"
   ]
  },
  {
   "cell_type": "markdown",
   "metadata": {},
   "source": [
    "You will need to download the [DaLiAc database](https://mad-nas.cs.fau.de:8081/Research/ActivityNet/daliac.zip) and export all `dataset_x.txt` files into a folder named `datasets` within the same directory as this Jupyter Notebook."
   ]
  },
  {
   "cell_type": "code",
   "execution_count": null,
   "metadata": {},
   "outputs": [],
   "source": [
    "'''\n",
    "Load data for 19 people from datasets folder (one dataset per person)\n",
    "'''\n",
    "def load_data():\n",
    "    # Load all datasets\n",
    "    for i in range(1,20):\n",
    "        df = pd.read_csv('datasets/dataset_%d.txt' % i, sep=',', header=None)\n",
    "        print('Loaded dataset_%d.txt (%d rows)' % (i, len(df)))\n",
    "    \n",
    "    # Print blank line to separate load status\n",
    "    print('') \n",
    "    \n",
    "    # Return loaded data\n",
    "    return df\n",
    "\n",
    "\n",
    "# Call our load_data() function\n",
    "load_data()"
   ]
  }
 ],
 "metadata": {
  "kernelspec": {
   "display_name": "Python 3",
   "language": "python",
   "name": "python3"
  },
  "language_info": {
   "codemirror_mode": {
    "name": "ipython",
    "version": 3
   },
   "file_extension": ".py",
   "mimetype": "text/x-python",
   "name": "python",
   "nbconvert_exporter": "python",
   "pygments_lexer": "ipython3",
   "version": "3.7.2"
  }
 },
 "nbformat": 4,
 "nbformat_minor": 2
}
